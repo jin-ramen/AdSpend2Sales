{
 "cells": [
  {
   "cell_type": "code",
   "execution_count": null,
   "id": "d9f89334-ab22-43b5-9caa-f71594ce7a01",
   "metadata": {},
   "outputs": [],
   "source": []
  }
 ],
 "metadata": {
  "kernelspec": {
   "display_name": "",
   "name": ""
  },
  "language_info": {
   "name": ""
  }
 },
 "nbformat": 4,
 "nbformat_minor": 5
}

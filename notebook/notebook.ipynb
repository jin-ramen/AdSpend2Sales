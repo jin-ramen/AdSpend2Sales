{
 "cells": [
  {
   "cell_type": "code",
   "execution_count": 2,
   "id": "d9f89334-ab22-43b5-9caa-f71594ce7a01",
   "metadata": {},
   "outputs": [],
   "source": [
    "import pandas as pd\n",
    "import numpy as np\n",
    "import matplotlib.pyplot as plt\n",
    "import sys\n",
    "sys.path.append('..') # project root\n",
    "from src.gradient_descent import gradient_descent\n",
    "from src.cost_functions import compute_cost"
   ]
  },
  {
   "cell_type": "code",
   "execution_count": 8,
   "id": "5acd7251",
   "metadata": {},
   "outputs": [
    {
     "data": {
      "text/plain": [
       "array([230.1,  37.8,  69.2,  22.1])"
      ]
     },
     "execution_count": 8,
     "metadata": {},
     "output_type": "execute_result"
    }
   ],
   "source": [
    "df = pd.read_csv('../data/Advertising.csv', nrows=1000).to_numpy()\n",
    "df[0]"
   ]
  },
  {
   "cell_type": "code",
   "execution_count": 29,
   "id": "90c4ecb7",
   "metadata": {},
   "outputs": [
    {
     "data": {
      "text/plain": [
       "((200, 3), (200,))"
      ]
     },
     "execution_count": 29,
     "metadata": {},
     "output_type": "execute_result"
    }
   ],
   "source": [
    "# Using independent variable 'acousticness' to predict dependent variable 'popularity'\n",
    "label = [\"TV\", \"radio\",  \"newspaper\"]\n",
    "x = df[:, 0:3]\n",
    "y = df[:, 3]\n",
    "x.shape, y.shape"
   ]
  },
  {
   "cell_type": "code",
   "execution_count": 30,
   "id": "7d64a454",
   "metadata": {},
   "outputs": [],
   "source": [
    "# split into training and testing sets 60:40 ratio\n",
    "n = len(y)\n",
    "train_size = int(0.6 * n)\n",
    "test_size = n - train_size\n",
    "x_train, x_test = x[:train_size], x[train_size:]\n",
    "y_train, y_test = y[:train_size], y[train_size:]"
   ]
  },
  {
   "cell_type": "code",
   "execution_count": 32,
   "id": "c890324a",
   "metadata": {},
   "outputs": [
    {
     "data": {
      "text/plain": [
       "array([0.96985227, 0.98152247, 1.77894547])"
      ]
     },
     "execution_count": 32,
     "metadata": {},
     "output_type": "execute_result"
    }
   ],
   "source": [
    "# feature using z-score normalization\n",
    "x_mean = np.mean(x, axis=0)\n",
    "x_sd = np.std(x, axis=0)\n",
    "x_norm = (x_train - x_mean) / x_sd\n",
    "x_norm[0]"
   ]
  },
  {
   "cell_type": "code",
   "execution_count": null,
   "id": "b51deaa2-e133-4c86-8f82-a5c887f508a2",
   "metadata": {},
   "outputs": [],
   "source": []
  },
  {
   "cell_type": "code",
   "execution_count": null,
   "id": "739e2e6f-2601-48d9-803d-146f12604a48",
   "metadata": {},
   "outputs": [],
   "source": []
  }
 ],
 "metadata": {
  "kernelspec": {
   "display_name": "Python 3 (ipykernel)",
   "language": "python",
   "name": "python3"
  },
  "language_info": {
   "codemirror_mode": {
    "name": "ipython",
    "version": 3
   },
   "file_extension": ".py",
   "mimetype": "text/x-python",
   "name": "python",
   "nbconvert_exporter": "python",
   "pygments_lexer": "ipython3",
   "version": "3.13.2"
  }
 },
 "nbformat": 4,
 "nbformat_minor": 5
}
